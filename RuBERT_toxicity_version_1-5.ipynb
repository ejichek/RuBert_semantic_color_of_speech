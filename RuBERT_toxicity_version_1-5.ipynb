{
  "nbformat": 4,
  "nbformat_minor": 0,
  "metadata": {
    "colab": {
      "name": "RuBERT_toxicity_version_1.ipynb",
      "provenance": [],
      "collapsed_sections": []
    },
    "kernelspec": {
      "name": "python3",
      "display_name": "Python 3"
    },
    "language_info": {
      "name": "python"
    },
    "widgets": {
      "application/vnd.jupyter.widget-state+json": {
        "6ffdb7d1023346f2b3340545372d16ce": {
          "model_module": "@jupyter-widgets/controls",
          "model_name": "HBoxModel",
          "state": {
            "_view_name": "HBoxView",
            "_dom_classes": [],
            "_model_name": "HBoxModel",
            "_view_module": "@jupyter-widgets/controls",
            "_model_module_version": "1.5.0",
            "_view_count": null,
            "_view_module_version": "1.5.0",
            "box_style": "",
            "layout": "IPY_MODEL_83341519e98b4a1bb820e56cc626db09",
            "_model_module": "@jupyter-widgets/controls",
            "children": [
              "IPY_MODEL_79e1d0364fa444acb9f4cd987ed361c7",
              "IPY_MODEL_2154f7db35bb4bd784d3bc7032124f7c"
            ]
          }
        },
        "83341519e98b4a1bb820e56cc626db09": {
          "model_module": "@jupyter-widgets/base",
          "model_name": "LayoutModel",
          "state": {
            "_view_name": "LayoutView",
            "grid_template_rows": null,
            "right": null,
            "justify_content": null,
            "_view_module": "@jupyter-widgets/base",
            "overflow": null,
            "_model_module_version": "1.2.0",
            "_view_count": null,
            "flex_flow": null,
            "width": null,
            "min_width": null,
            "border": null,
            "align_items": null,
            "bottom": null,
            "_model_module": "@jupyter-widgets/base",
            "top": null,
            "grid_column": null,
            "overflow_y": null,
            "overflow_x": null,
            "grid_auto_flow": null,
            "grid_area": null,
            "grid_template_columns": null,
            "flex": null,
            "_model_name": "LayoutModel",
            "justify_items": null,
            "grid_row": null,
            "max_height": null,
            "align_content": null,
            "visibility": null,
            "align_self": null,
            "height": null,
            "min_height": null,
            "padding": null,
            "grid_auto_rows": null,
            "grid_gap": null,
            "max_width": null,
            "order": null,
            "_view_module_version": "1.2.0",
            "grid_template_areas": null,
            "object_position": null,
            "object_fit": null,
            "grid_auto_columns": null,
            "margin": null,
            "display": null,
            "left": null
          }
        },
        "79e1d0364fa444acb9f4cd987ed361c7": {
          "model_module": "@jupyter-widgets/controls",
          "model_name": "FloatProgressModel",
          "state": {
            "_view_name": "ProgressView",
            "style": "IPY_MODEL_ab0f144b3a4541a6b781be8beed08698",
            "_dom_classes": [],
            "description": "Downloading: 100%",
            "_model_name": "FloatProgressModel",
            "bar_style": "success",
            "max": 540,
            "_view_module": "@jupyter-widgets/controls",
            "_model_module_version": "1.5.0",
            "value": 540,
            "_view_count": null,
            "_view_module_version": "1.5.0",
            "orientation": "horizontal",
            "min": 0,
            "description_tooltip": null,
            "_model_module": "@jupyter-widgets/controls",
            "layout": "IPY_MODEL_b068838a296840c2b4e52fb6865fc827"
          }
        },
        "2154f7db35bb4bd784d3bc7032124f7c": {
          "model_module": "@jupyter-widgets/controls",
          "model_name": "HTMLModel",
          "state": {
            "_view_name": "HTMLView",
            "style": "IPY_MODEL_7aeefc690af44963b34c52fb1a8d1cfb",
            "_dom_classes": [],
            "description": "",
            "_model_name": "HTMLModel",
            "placeholder": "​",
            "_view_module": "@jupyter-widgets/controls",
            "_model_module_version": "1.5.0",
            "value": " 540/540 [00:00&lt;00:00, 814B/s]",
            "_view_count": null,
            "_view_module_version": "1.5.0",
            "description_tooltip": null,
            "_model_module": "@jupyter-widgets/controls",
            "layout": "IPY_MODEL_8aaea67adcf947a3a8010ff5b89b2e07"
          }
        },
        "ab0f144b3a4541a6b781be8beed08698": {
          "model_module": "@jupyter-widgets/controls",
          "model_name": "ProgressStyleModel",
          "state": {
            "_view_name": "StyleView",
            "_model_name": "ProgressStyleModel",
            "description_width": "initial",
            "_view_module": "@jupyter-widgets/base",
            "_model_module_version": "1.5.0",
            "_view_count": null,
            "_view_module_version": "1.2.0",
            "bar_color": null,
            "_model_module": "@jupyter-widgets/controls"
          }
        },
        "b068838a296840c2b4e52fb6865fc827": {
          "model_module": "@jupyter-widgets/base",
          "model_name": "LayoutModel",
          "state": {
            "_view_name": "LayoutView",
            "grid_template_rows": null,
            "right": null,
            "justify_content": null,
            "_view_module": "@jupyter-widgets/base",
            "overflow": null,
            "_model_module_version": "1.2.0",
            "_view_count": null,
            "flex_flow": null,
            "width": null,
            "min_width": null,
            "border": null,
            "align_items": null,
            "bottom": null,
            "_model_module": "@jupyter-widgets/base",
            "top": null,
            "grid_column": null,
            "overflow_y": null,
            "overflow_x": null,
            "grid_auto_flow": null,
            "grid_area": null,
            "grid_template_columns": null,
            "flex": null,
            "_model_name": "LayoutModel",
            "justify_items": null,
            "grid_row": null,
            "max_height": null,
            "align_content": null,
            "visibility": null,
            "align_self": null,
            "height": null,
            "min_height": null,
            "padding": null,
            "grid_auto_rows": null,
            "grid_gap": null,
            "max_width": null,
            "order": null,
            "_view_module_version": "1.2.0",
            "grid_template_areas": null,
            "object_position": null,
            "object_fit": null,
            "grid_auto_columns": null,
            "margin": null,
            "display": null,
            "left": null
          }
        },
        "7aeefc690af44963b34c52fb1a8d1cfb": {
          "model_module": "@jupyter-widgets/controls",
          "model_name": "DescriptionStyleModel",
          "state": {
            "_view_name": "StyleView",
            "_model_name": "DescriptionStyleModel",
            "description_width": "",
            "_view_module": "@jupyter-widgets/base",
            "_model_module_version": "1.5.0",
            "_view_count": null,
            "_view_module_version": "1.2.0",
            "_model_module": "@jupyter-widgets/controls"
          }
        },
        "8aaea67adcf947a3a8010ff5b89b2e07": {
          "model_module": "@jupyter-widgets/base",
          "model_name": "LayoutModel",
          "state": {
            "_view_name": "LayoutView",
            "grid_template_rows": null,
            "right": null,
            "justify_content": null,
            "_view_module": "@jupyter-widgets/base",
            "overflow": null,
            "_model_module_version": "1.2.0",
            "_view_count": null,
            "flex_flow": null,
            "width": null,
            "min_width": null,
            "border": null,
            "align_items": null,
            "bottom": null,
            "_model_module": "@jupyter-widgets/base",
            "top": null,
            "grid_column": null,
            "overflow_y": null,
            "overflow_x": null,
            "grid_auto_flow": null,
            "grid_area": null,
            "grid_template_columns": null,
            "flex": null,
            "_model_name": "LayoutModel",
            "justify_items": null,
            "grid_row": null,
            "max_height": null,
            "align_content": null,
            "visibility": null,
            "align_self": null,
            "height": null,
            "min_height": null,
            "padding": null,
            "grid_auto_rows": null,
            "grid_gap": null,
            "max_width": null,
            "order": null,
            "_view_module_version": "1.2.0",
            "grid_template_areas": null,
            "object_position": null,
            "object_fit": null,
            "grid_auto_columns": null,
            "margin": null,
            "display": null,
            "left": null
          }
        },
        "814c84d0613d4c4fbe31c8a64e433748": {
          "model_module": "@jupyter-widgets/controls",
          "model_name": "HBoxModel",
          "state": {
            "_view_name": "HBoxView",
            "_dom_classes": [],
            "_model_name": "HBoxModel",
            "_view_module": "@jupyter-widgets/controls",
            "_model_module_version": "1.5.0",
            "_view_count": null,
            "_view_module_version": "1.5.0",
            "box_style": "",
            "layout": "IPY_MODEL_5a195f359fef45f1920353944ab81957",
            "_model_module": "@jupyter-widgets/controls",
            "children": [
              "IPY_MODEL_9b90d9b24d8e431eb3f51b34ea087b8f",
              "IPY_MODEL_2cdf7a0cac934c0482ccd4e5874d589a"
            ]
          }
        },
        "5a195f359fef45f1920353944ab81957": {
          "model_module": "@jupyter-widgets/base",
          "model_name": "LayoutModel",
          "state": {
            "_view_name": "LayoutView",
            "grid_template_rows": null,
            "right": null,
            "justify_content": null,
            "_view_module": "@jupyter-widgets/base",
            "overflow": null,
            "_model_module_version": "1.2.0",
            "_view_count": null,
            "flex_flow": null,
            "width": null,
            "min_width": null,
            "border": null,
            "align_items": null,
            "bottom": null,
            "_model_module": "@jupyter-widgets/base",
            "top": null,
            "grid_column": null,
            "overflow_y": null,
            "overflow_x": null,
            "grid_auto_flow": null,
            "grid_area": null,
            "grid_template_columns": null,
            "flex": null,
            "_model_name": "LayoutModel",
            "justify_items": null,
            "grid_row": null,
            "max_height": null,
            "align_content": null,
            "visibility": null,
            "align_self": null,
            "height": null,
            "min_height": null,
            "padding": null,
            "grid_auto_rows": null,
            "grid_gap": null,
            "max_width": null,
            "order": null,
            "_view_module_version": "1.2.0",
            "grid_template_areas": null,
            "object_position": null,
            "object_fit": null,
            "grid_auto_columns": null,
            "margin": null,
            "display": null,
            "left": null
          }
        },
        "9b90d9b24d8e431eb3f51b34ea087b8f": {
          "model_module": "@jupyter-widgets/controls",
          "model_name": "FloatProgressModel",
          "state": {
            "_view_name": "ProgressView",
            "style": "IPY_MODEL_a17a69d24c2645bda796f516061e8a22",
            "_dom_classes": [],
            "description": "Downloading: 100%",
            "_model_name": "FloatProgressModel",
            "bar_style": "success",
            "max": 920,
            "_view_module": "@jupyter-widgets/controls",
            "_model_module_version": "1.5.0",
            "value": 920,
            "_view_count": null,
            "_view_module_version": "1.5.0",
            "orientation": "horizontal",
            "min": 0,
            "description_tooltip": null,
            "_model_module": "@jupyter-widgets/controls",
            "layout": "IPY_MODEL_88ed686a17cc4621a90fca876f380b63"
          }
        },
        "2cdf7a0cac934c0482ccd4e5874d589a": {
          "model_module": "@jupyter-widgets/controls",
          "model_name": "HTMLModel",
          "state": {
            "_view_name": "HTMLView",
            "style": "IPY_MODEL_ba7d3d5dedf6412b8034f205a9494b51",
            "_dom_classes": [],
            "description": "",
            "_model_name": "HTMLModel",
            "placeholder": "​",
            "_view_module": "@jupyter-widgets/controls",
            "_model_module_version": "1.5.0",
            "value": " 920/920 [00:03&lt;00:00, 282B/s]",
            "_view_count": null,
            "_view_module_version": "1.5.0",
            "description_tooltip": null,
            "_model_module": "@jupyter-widgets/controls",
            "layout": "IPY_MODEL_9ac7c1a9a00d4239a26dfa390561ae4c"
          }
        },
        "a17a69d24c2645bda796f516061e8a22": {
          "model_module": "@jupyter-widgets/controls",
          "model_name": "ProgressStyleModel",
          "state": {
            "_view_name": "StyleView",
            "_model_name": "ProgressStyleModel",
            "description_width": "initial",
            "_view_module": "@jupyter-widgets/base",
            "_model_module_version": "1.5.0",
            "_view_count": null,
            "_view_module_version": "1.2.0",
            "bar_color": null,
            "_model_module": "@jupyter-widgets/controls"
          }
        },
        "88ed686a17cc4621a90fca876f380b63": {
          "model_module": "@jupyter-widgets/base",
          "model_name": "LayoutModel",
          "state": {
            "_view_name": "LayoutView",
            "grid_template_rows": null,
            "right": null,
            "justify_content": null,
            "_view_module": "@jupyter-widgets/base",
            "overflow": null,
            "_model_module_version": "1.2.0",
            "_view_count": null,
            "flex_flow": null,
            "width": null,
            "min_width": null,
            "border": null,
            "align_items": null,
            "bottom": null,
            "_model_module": "@jupyter-widgets/base",
            "top": null,
            "grid_column": null,
            "overflow_y": null,
            "overflow_x": null,
            "grid_auto_flow": null,
            "grid_area": null,
            "grid_template_columns": null,
            "flex": null,
            "_model_name": "LayoutModel",
            "justify_items": null,
            "grid_row": null,
            "max_height": null,
            "align_content": null,
            "visibility": null,
            "align_self": null,
            "height": null,
            "min_height": null,
            "padding": null,
            "grid_auto_rows": null,
            "grid_gap": null,
            "max_width": null,
            "order": null,
            "_view_module_version": "1.2.0",
            "grid_template_areas": null,
            "object_position": null,
            "object_fit": null,
            "grid_auto_columns": null,
            "margin": null,
            "display": null,
            "left": null
          }
        },
        "ba7d3d5dedf6412b8034f205a9494b51": {
          "model_module": "@jupyter-widgets/controls",
          "model_name": "DescriptionStyleModel",
          "state": {
            "_view_name": "StyleView",
            "_model_name": "DescriptionStyleModel",
            "description_width": "",
            "_view_module": "@jupyter-widgets/base",
            "_model_module_version": "1.5.0",
            "_view_count": null,
            "_view_module_version": "1.2.0",
            "_model_module": "@jupyter-widgets/controls"
          }
        },
        "9ac7c1a9a00d4239a26dfa390561ae4c": {
          "model_module": "@jupyter-widgets/base",
          "model_name": "LayoutModel",
          "state": {
            "_view_name": "LayoutView",
            "grid_template_rows": null,
            "right": null,
            "justify_content": null,
            "_view_module": "@jupyter-widgets/base",
            "overflow": null,
            "_model_module_version": "1.2.0",
            "_view_count": null,
            "flex_flow": null,
            "width": null,
            "min_width": null,
            "border": null,
            "align_items": null,
            "bottom": null,
            "_model_module": "@jupyter-widgets/base",
            "top": null,
            "grid_column": null,
            "overflow_y": null,
            "overflow_x": null,
            "grid_auto_flow": null,
            "grid_area": null,
            "grid_template_columns": null,
            "flex": null,
            "_model_name": "LayoutModel",
            "justify_items": null,
            "grid_row": null,
            "max_height": null,
            "align_content": null,
            "visibility": null,
            "align_self": null,
            "height": null,
            "min_height": null,
            "padding": null,
            "grid_auto_rows": null,
            "grid_gap": null,
            "max_width": null,
            "order": null,
            "_view_module_version": "1.2.0",
            "grid_template_areas": null,
            "object_position": null,
            "object_fit": null,
            "grid_auto_columns": null,
            "margin": null,
            "display": null,
            "left": null
          }
        },
        "5567c174e489496cbbd2afd823c4a3eb": {
          "model_module": "@jupyter-widgets/controls",
          "model_name": "HBoxModel",
          "state": {
            "_view_name": "HBoxView",
            "_dom_classes": [],
            "_model_name": "HBoxModel",
            "_view_module": "@jupyter-widgets/controls",
            "_model_module_version": "1.5.0",
            "_view_count": null,
            "_view_module_version": "1.5.0",
            "box_style": "",
            "layout": "IPY_MODEL_808a5127ec9c46eab9c7e7eaf30722fa",
            "_model_module": "@jupyter-widgets/controls",
            "children": [
              "IPY_MODEL_ea26989500e64d5da0036af613e53598",
              "IPY_MODEL_0af22de1a75e48bebbbd3f480a20b3e9"
            ]
          }
        },
        "808a5127ec9c46eab9c7e7eaf30722fa": {
          "model_module": "@jupyter-widgets/base",
          "model_name": "LayoutModel",
          "state": {
            "_view_name": "LayoutView",
            "grid_template_rows": null,
            "right": null,
            "justify_content": null,
            "_view_module": "@jupyter-widgets/base",
            "overflow": null,
            "_model_module_version": "1.2.0",
            "_view_count": null,
            "flex_flow": null,
            "width": null,
            "min_width": null,
            "border": null,
            "align_items": null,
            "bottom": null,
            "_model_module": "@jupyter-widgets/base",
            "top": null,
            "grid_column": null,
            "overflow_y": null,
            "overflow_x": null,
            "grid_auto_flow": null,
            "grid_area": null,
            "grid_template_columns": null,
            "flex": null,
            "_model_name": "LayoutModel",
            "justify_items": null,
            "grid_row": null,
            "max_height": null,
            "align_content": null,
            "visibility": null,
            "align_self": null,
            "height": null,
            "min_height": null,
            "padding": null,
            "grid_auto_rows": null,
            "grid_gap": null,
            "max_width": null,
            "order": null,
            "_view_module_version": "1.2.0",
            "grid_template_areas": null,
            "object_position": null,
            "object_fit": null,
            "grid_auto_columns": null,
            "margin": null,
            "display": null,
            "left": null
          }
        },
        "ea26989500e64d5da0036af613e53598": {
          "model_module": "@jupyter-widgets/controls",
          "model_name": "FloatProgressModel",
          "state": {
            "_view_name": "ProgressView",
            "style": "IPY_MODEL_366417763fcf499e85650f53720c9b92",
            "_dom_classes": [],
            "description": "Downloading: 100%",
            "_model_name": "FloatProgressModel",
            "bar_style": "success",
            "max": 1649718,
            "_view_module": "@jupyter-widgets/controls",
            "_model_module_version": "1.5.0",
            "value": 1649718,
            "_view_count": null,
            "_view_module_version": "1.5.0",
            "orientation": "horizontal",
            "min": 0,
            "description_tooltip": null,
            "_model_module": "@jupyter-widgets/controls",
            "layout": "IPY_MODEL_72f182a487284fb5b19102c0a7aede5b"
          }
        },
        "0af22de1a75e48bebbbd3f480a20b3e9": {
          "model_module": "@jupyter-widgets/controls",
          "model_name": "HTMLModel",
          "state": {
            "_view_name": "HTMLView",
            "style": "IPY_MODEL_8e71a177276f4fce8587c8740a3e6363",
            "_dom_classes": [],
            "description": "",
            "_model_name": "HTMLModel",
            "placeholder": "​",
            "_view_module": "@jupyter-widgets/controls",
            "_model_module_version": "1.5.0",
            "value": " 1.65M/1.65M [00:01&lt;00:00, 1.08MB/s]",
            "_view_count": null,
            "_view_module_version": "1.5.0",
            "description_tooltip": null,
            "_model_module": "@jupyter-widgets/controls",
            "layout": "IPY_MODEL_819b403365c1490db3ed954cc3c0e600"
          }
        },
        "366417763fcf499e85650f53720c9b92": {
          "model_module": "@jupyter-widgets/controls",
          "model_name": "ProgressStyleModel",
          "state": {
            "_view_name": "StyleView",
            "_model_name": "ProgressStyleModel",
            "description_width": "initial",
            "_view_module": "@jupyter-widgets/base",
            "_model_module_version": "1.5.0",
            "_view_count": null,
            "_view_module_version": "1.2.0",
            "bar_color": null,
            "_model_module": "@jupyter-widgets/controls"
          }
        },
        "72f182a487284fb5b19102c0a7aede5b": {
          "model_module": "@jupyter-widgets/base",
          "model_name": "LayoutModel",
          "state": {
            "_view_name": "LayoutView",
            "grid_template_rows": null,
            "right": null,
            "justify_content": null,
            "_view_module": "@jupyter-widgets/base",
            "overflow": null,
            "_model_module_version": "1.2.0",
            "_view_count": null,
            "flex_flow": null,
            "width": null,
            "min_width": null,
            "border": null,
            "align_items": null,
            "bottom": null,
            "_model_module": "@jupyter-widgets/base",
            "top": null,
            "grid_column": null,
            "overflow_y": null,
            "overflow_x": null,
            "grid_auto_flow": null,
            "grid_area": null,
            "grid_template_columns": null,
            "flex": null,
            "_model_name": "LayoutModel",
            "justify_items": null,
            "grid_row": null,
            "max_height": null,
            "align_content": null,
            "visibility": null,
            "align_self": null,
            "height": null,
            "min_height": null,
            "padding": null,
            "grid_auto_rows": null,
            "grid_gap": null,
            "max_width": null,
            "order": null,
            "_view_module_version": "1.2.0",
            "grid_template_areas": null,
            "object_position": null,
            "object_fit": null,
            "grid_auto_columns": null,
            "margin": null,
            "display": null,
            "left": null
          }
        },
        "8e71a177276f4fce8587c8740a3e6363": {
          "model_module": "@jupyter-widgets/controls",
          "model_name": "DescriptionStyleModel",
          "state": {
            "_view_name": "StyleView",
            "_model_name": "DescriptionStyleModel",
            "description_width": "",
            "_view_module": "@jupyter-widgets/base",
            "_model_module_version": "1.5.0",
            "_view_count": null,
            "_view_module_version": "1.2.0",
            "_model_module": "@jupyter-widgets/controls"
          }
        },
        "819b403365c1490db3ed954cc3c0e600": {
          "model_module": "@jupyter-widgets/base",
          "model_name": "LayoutModel",
          "state": {
            "_view_name": "LayoutView",
            "grid_template_rows": null,
            "right": null,
            "justify_content": null,
            "_view_module": "@jupyter-widgets/base",
            "overflow": null,
            "_model_module_version": "1.2.0",
            "_view_count": null,
            "flex_flow": null,
            "width": null,
            "min_width": null,
            "border": null,
            "align_items": null,
            "bottom": null,
            "_model_module": "@jupyter-widgets/base",
            "top": null,
            "grid_column": null,
            "overflow_y": null,
            "overflow_x": null,
            "grid_auto_flow": null,
            "grid_area": null,
            "grid_template_columns": null,
            "flex": null,
            "_model_name": "LayoutModel",
            "justify_items": null,
            "grid_row": null,
            "max_height": null,
            "align_content": null,
            "visibility": null,
            "align_self": null,
            "height": null,
            "min_height": null,
            "padding": null,
            "grid_auto_rows": null,
            "grid_gap": null,
            "max_width": null,
            "order": null,
            "_view_module_version": "1.2.0",
            "grid_template_areas": null,
            "object_position": null,
            "object_fit": null,
            "grid_auto_columns": null,
            "margin": null,
            "display": null,
            "left": null
          }
        },
        "927273079a9d4f7fb057b4c0efba2aec": {
          "model_module": "@jupyter-widgets/controls",
          "model_name": "HBoxModel",
          "state": {
            "_view_name": "HBoxView",
            "_dom_classes": [],
            "_model_name": "HBoxModel",
            "_view_module": "@jupyter-widgets/controls",
            "_model_module_version": "1.5.0",
            "_view_count": null,
            "_view_module_version": "1.5.0",
            "box_style": "",
            "layout": "IPY_MODEL_b017d647345d4e1eac1d63c474257508",
            "_model_module": "@jupyter-widgets/controls",
            "children": [
              "IPY_MODEL_23fbeb8f9bf34d49b1a11f59d54de84b",
              "IPY_MODEL_f85431ffe3a14010b23b7c4042c9a224"
            ]
          }
        },
        "b017d647345d4e1eac1d63c474257508": {
          "model_module": "@jupyter-widgets/base",
          "model_name": "LayoutModel",
          "state": {
            "_view_name": "LayoutView",
            "grid_template_rows": null,
            "right": null,
            "justify_content": null,
            "_view_module": "@jupyter-widgets/base",
            "overflow": null,
            "_model_module_version": "1.2.0",
            "_view_count": null,
            "flex_flow": null,
            "width": null,
            "min_width": null,
            "border": null,
            "align_items": null,
            "bottom": null,
            "_model_module": "@jupyter-widgets/base",
            "top": null,
            "grid_column": null,
            "overflow_y": null,
            "overflow_x": null,
            "grid_auto_flow": null,
            "grid_area": null,
            "grid_template_columns": null,
            "flex": null,
            "_model_name": "LayoutModel",
            "justify_items": null,
            "grid_row": null,
            "max_height": null,
            "align_content": null,
            "visibility": null,
            "align_self": null,
            "height": null,
            "min_height": null,
            "padding": null,
            "grid_auto_rows": null,
            "grid_gap": null,
            "max_width": null,
            "order": null,
            "_view_module_version": "1.2.0",
            "grid_template_areas": null,
            "object_position": null,
            "object_fit": null,
            "grid_auto_columns": null,
            "margin": null,
            "display": null,
            "left": null
          }
        },
        "23fbeb8f9bf34d49b1a11f59d54de84b": {
          "model_module": "@jupyter-widgets/controls",
          "model_name": "FloatProgressModel",
          "state": {
            "_view_name": "ProgressView",
            "style": "IPY_MODEL_5b5eb180923048beb92add8b8b746c25",
            "_dom_classes": [],
            "description": "Downloading: 100%",
            "_model_name": "FloatProgressModel",
            "bar_style": "success",
            "max": 112,
            "_view_module": "@jupyter-widgets/controls",
            "_model_module_version": "1.5.0",
            "value": 112,
            "_view_count": null,
            "_view_module_version": "1.5.0",
            "orientation": "horizontal",
            "min": 0,
            "description_tooltip": null,
            "_model_module": "@jupyter-widgets/controls",
            "layout": "IPY_MODEL_83821aeb0ca24ad08436c0915aeb46a7"
          }
        },
        "f85431ffe3a14010b23b7c4042c9a224": {
          "model_module": "@jupyter-widgets/controls",
          "model_name": "HTMLModel",
          "state": {
            "_view_name": "HTMLView",
            "style": "IPY_MODEL_8cb76b8e6c57462a8a3e17c6ac8e8649",
            "_dom_classes": [],
            "description": "",
            "_model_name": "HTMLModel",
            "placeholder": "​",
            "_view_module": "@jupyter-widgets/controls",
            "_model_module_version": "1.5.0",
            "value": " 112/112 [00:00&lt;00:00, 146B/s]",
            "_view_count": null,
            "_view_module_version": "1.5.0",
            "description_tooltip": null,
            "_model_module": "@jupyter-widgets/controls",
            "layout": "IPY_MODEL_2a24a5b246fa4f89bbb12d190c54bbad"
          }
        },
        "5b5eb180923048beb92add8b8b746c25": {
          "model_module": "@jupyter-widgets/controls",
          "model_name": "ProgressStyleModel",
          "state": {
            "_view_name": "StyleView",
            "_model_name": "ProgressStyleModel",
            "description_width": "initial",
            "_view_module": "@jupyter-widgets/base",
            "_model_module_version": "1.5.0",
            "_view_count": null,
            "_view_module_version": "1.2.0",
            "bar_color": null,
            "_model_module": "@jupyter-widgets/controls"
          }
        },
        "83821aeb0ca24ad08436c0915aeb46a7": {
          "model_module": "@jupyter-widgets/base",
          "model_name": "LayoutModel",
          "state": {
            "_view_name": "LayoutView",
            "grid_template_rows": null,
            "right": null,
            "justify_content": null,
            "_view_module": "@jupyter-widgets/base",
            "overflow": null,
            "_model_module_version": "1.2.0",
            "_view_count": null,
            "flex_flow": null,
            "width": null,
            "min_width": null,
            "border": null,
            "align_items": null,
            "bottom": null,
            "_model_module": "@jupyter-widgets/base",
            "top": null,
            "grid_column": null,
            "overflow_y": null,
            "overflow_x": null,
            "grid_auto_flow": null,
            "grid_area": null,
            "grid_template_columns": null,
            "flex": null,
            "_model_name": "LayoutModel",
            "justify_items": null,
            "grid_row": null,
            "max_height": null,
            "align_content": null,
            "visibility": null,
            "align_self": null,
            "height": null,
            "min_height": null,
            "padding": null,
            "grid_auto_rows": null,
            "grid_gap": null,
            "max_width": null,
            "order": null,
            "_view_module_version": "1.2.0",
            "grid_template_areas": null,
            "object_position": null,
            "object_fit": null,
            "grid_auto_columns": null,
            "margin": null,
            "display": null,
            "left": null
          }
        },
        "8cb76b8e6c57462a8a3e17c6ac8e8649": {
          "model_module": "@jupyter-widgets/controls",
          "model_name": "DescriptionStyleModel",
          "state": {
            "_view_name": "StyleView",
            "_model_name": "DescriptionStyleModel",
            "description_width": "",
            "_view_module": "@jupyter-widgets/base",
            "_model_module_version": "1.5.0",
            "_view_count": null,
            "_view_module_version": "1.2.0",
            "_model_module": "@jupyter-widgets/controls"
          }
        },
        "2a24a5b246fa4f89bbb12d190c54bbad": {
          "model_module": "@jupyter-widgets/base",
          "model_name": "LayoutModel",
          "state": {
            "_view_name": "LayoutView",
            "grid_template_rows": null,
            "right": null,
            "justify_content": null,
            "_view_module": "@jupyter-widgets/base",
            "overflow": null,
            "_model_module_version": "1.2.0",
            "_view_count": null,
            "flex_flow": null,
            "width": null,
            "min_width": null,
            "border": null,
            "align_items": null,
            "bottom": null,
            "_model_module": "@jupyter-widgets/base",
            "top": null,
            "grid_column": null,
            "overflow_y": null,
            "overflow_x": null,
            "grid_auto_flow": null,
            "grid_area": null,
            "grid_template_columns": null,
            "flex": null,
            "_model_name": "LayoutModel",
            "justify_items": null,
            "grid_row": null,
            "max_height": null,
            "align_content": null,
            "visibility": null,
            "align_self": null,
            "height": null,
            "min_height": null,
            "padding": null,
            "grid_auto_rows": null,
            "grid_gap": null,
            "max_width": null,
            "order": null,
            "_view_module_version": "1.2.0",
            "grid_template_areas": null,
            "object_position": null,
            "object_fit": null,
            "grid_auto_columns": null,
            "margin": null,
            "display": null,
            "left": null
          }
        },
        "6c06d79601a24988a4227e77197f02cb": {
          "model_module": "@jupyter-widgets/controls",
          "model_name": "HBoxModel",
          "state": {
            "_view_name": "HBoxView",
            "_dom_classes": [],
            "_model_name": "HBoxModel",
            "_view_module": "@jupyter-widgets/controls",
            "_model_module_version": "1.5.0",
            "_view_count": null,
            "_view_module_version": "1.5.0",
            "box_style": "",
            "layout": "IPY_MODEL_2b2ece85c9504c5fa9c92da5421da109",
            "_model_module": "@jupyter-widgets/controls",
            "children": [
              "IPY_MODEL_827e070038044318a8e8ea44a8f7ac54",
              "IPY_MODEL_6e7461f4cbe14e76b82412eaee0adc6a"
            ]
          }
        },
        "2b2ece85c9504c5fa9c92da5421da109": {
          "model_module": "@jupyter-widgets/base",
          "model_name": "LayoutModel",
          "state": {
            "_view_name": "LayoutView",
            "grid_template_rows": null,
            "right": null,
            "justify_content": null,
            "_view_module": "@jupyter-widgets/base",
            "overflow": null,
            "_model_module_version": "1.2.0",
            "_view_count": null,
            "flex_flow": null,
            "width": null,
            "min_width": null,
            "border": null,
            "align_items": null,
            "bottom": null,
            "_model_module": "@jupyter-widgets/base",
            "top": null,
            "grid_column": null,
            "overflow_y": null,
            "overflow_x": null,
            "grid_auto_flow": null,
            "grid_area": null,
            "grid_template_columns": null,
            "flex": null,
            "_model_name": "LayoutModel",
            "justify_items": null,
            "grid_row": null,
            "max_height": null,
            "align_content": null,
            "visibility": null,
            "align_self": null,
            "height": null,
            "min_height": null,
            "padding": null,
            "grid_auto_rows": null,
            "grid_gap": null,
            "max_width": null,
            "order": null,
            "_view_module_version": "1.2.0",
            "grid_template_areas": null,
            "object_position": null,
            "object_fit": null,
            "grid_auto_columns": null,
            "margin": null,
            "display": null,
            "left": null
          }
        },
        "827e070038044318a8e8ea44a8f7ac54": {
          "model_module": "@jupyter-widgets/controls",
          "model_name": "FloatProgressModel",
          "state": {
            "_view_name": "ProgressView",
            "style": "IPY_MODEL_9db2f18bd2cd4650b3069394a6926710",
            "_dom_classes": [],
            "description": "Downloading: 100%",
            "_model_name": "FloatProgressModel",
            "bar_style": "success",
            "max": 711506441,
            "_view_module": "@jupyter-widgets/controls",
            "_model_module_version": "1.5.0",
            "value": 711506441,
            "_view_count": null,
            "_view_module_version": "1.5.0",
            "orientation": "horizontal",
            "min": 0,
            "description_tooltip": null,
            "_model_module": "@jupyter-widgets/controls",
            "layout": "IPY_MODEL_9da8df05768948b7a0c1b120a8b755c8"
          }
        },
        "6e7461f4cbe14e76b82412eaee0adc6a": {
          "model_module": "@jupyter-widgets/controls",
          "model_name": "HTMLModel",
          "state": {
            "_view_name": "HTMLView",
            "style": "IPY_MODEL_30226a767a704161a485192b7b802a10",
            "_dom_classes": [],
            "description": "",
            "_model_name": "HTMLModel",
            "placeholder": "​",
            "_view_module": "@jupyter-widgets/controls",
            "_model_module_version": "1.5.0",
            "value": " 712M/712M [00:19&lt;00:00, 36.2MB/s]",
            "_view_count": null,
            "_view_module_version": "1.5.0",
            "description_tooltip": null,
            "_model_module": "@jupyter-widgets/controls",
            "layout": "IPY_MODEL_899df2f80a77460690f9cf4e3b2c80cd"
          }
        },
        "9db2f18bd2cd4650b3069394a6926710": {
          "model_module": "@jupyter-widgets/controls",
          "model_name": "ProgressStyleModel",
          "state": {
            "_view_name": "StyleView",
            "_model_name": "ProgressStyleModel",
            "description_width": "initial",
            "_view_module": "@jupyter-widgets/base",
            "_model_module_version": "1.5.0",
            "_view_count": null,
            "_view_module_version": "1.2.0",
            "bar_color": null,
            "_model_module": "@jupyter-widgets/controls"
          }
        },
        "9da8df05768948b7a0c1b120a8b755c8": {
          "model_module": "@jupyter-widgets/base",
          "model_name": "LayoutModel",
          "state": {
            "_view_name": "LayoutView",
            "grid_template_rows": null,
            "right": null,
            "justify_content": null,
            "_view_module": "@jupyter-widgets/base",
            "overflow": null,
            "_model_module_version": "1.2.0",
            "_view_count": null,
            "flex_flow": null,
            "width": null,
            "min_width": null,
            "border": null,
            "align_items": null,
            "bottom": null,
            "_model_module": "@jupyter-widgets/base",
            "top": null,
            "grid_column": null,
            "overflow_y": null,
            "overflow_x": null,
            "grid_auto_flow": null,
            "grid_area": null,
            "grid_template_columns": null,
            "flex": null,
            "_model_name": "LayoutModel",
            "justify_items": null,
            "grid_row": null,
            "max_height": null,
            "align_content": null,
            "visibility": null,
            "align_self": null,
            "height": null,
            "min_height": null,
            "padding": null,
            "grid_auto_rows": null,
            "grid_gap": null,
            "max_width": null,
            "order": null,
            "_view_module_version": "1.2.0",
            "grid_template_areas": null,
            "object_position": null,
            "object_fit": null,
            "grid_auto_columns": null,
            "margin": null,
            "display": null,
            "left": null
          }
        },
        "30226a767a704161a485192b7b802a10": {
          "model_module": "@jupyter-widgets/controls",
          "model_name": "DescriptionStyleModel",
          "state": {
            "_view_name": "StyleView",
            "_model_name": "DescriptionStyleModel",
            "description_width": "",
            "_view_module": "@jupyter-widgets/base",
            "_model_module_version": "1.5.0",
            "_view_count": null,
            "_view_module_version": "1.2.0",
            "_model_module": "@jupyter-widgets/controls"
          }
        },
        "899df2f80a77460690f9cf4e3b2c80cd": {
          "model_module": "@jupyter-widgets/base",
          "model_name": "LayoutModel",
          "state": {
            "_view_name": "LayoutView",
            "grid_template_rows": null,
            "right": null,
            "justify_content": null,
            "_view_module": "@jupyter-widgets/base",
            "overflow": null,
            "_model_module_version": "1.2.0",
            "_view_count": null,
            "flex_flow": null,
            "width": null,
            "min_width": null,
            "border": null,
            "align_items": null,
            "bottom": null,
            "_model_module": "@jupyter-widgets/base",
            "top": null,
            "grid_column": null,
            "overflow_y": null,
            "overflow_x": null,
            "grid_auto_flow": null,
            "grid_area": null,
            "grid_template_columns": null,
            "flex": null,
            "_model_name": "LayoutModel",
            "justify_items": null,
            "grid_row": null,
            "max_height": null,
            "align_content": null,
            "visibility": null,
            "align_self": null,
            "height": null,
            "min_height": null,
            "padding": null,
            "grid_auto_rows": null,
            "grid_gap": null,
            "max_width": null,
            "order": null,
            "_view_module_version": "1.2.0",
            "grid_template_areas": null,
            "object_position": null,
            "object_fit": null,
            "grid_auto_columns": null,
            "margin": null,
            "display": null,
            "left": null
          }
        }
      }
    }
  },
  "cells": [
    {
      "cell_type": "code",
      "metadata": {
        "colab": {
          "base_uri": "https://localhost:8080/"
        },
        "id": "lveixW-rOhUQ",
        "outputId": "58749e7b-8e50-4097-9580-49c6e707f03d"
      },
      "source": [
        "pip install transformers"
      ],
      "execution_count": 1,
      "outputs": [
        {
          "output_type": "stream",
          "text": [
            "Collecting transformers\n",
            "  Downloading transformers-4.9.1-py3-none-any.whl (2.6 MB)\n",
            "\u001b[K     |████████████████████████████████| 2.6 MB 8.3 MB/s \n",
            "\u001b[?25hRequirement already satisfied: regex!=2019.12.17 in /usr/local/lib/python3.7/dist-packages (from transformers) (2019.12.20)\n",
            "Collecting sacremoses\n",
            "  Downloading sacremoses-0.0.45-py3-none-any.whl (895 kB)\n",
            "\u001b[K     |████████████████████████████████| 895 kB 36.2 MB/s \n",
            "\u001b[?25hCollecting tokenizers<0.11,>=0.10.1\n",
            "  Downloading tokenizers-0.10.3-cp37-cp37m-manylinux_2_5_x86_64.manylinux1_x86_64.manylinux_2_12_x86_64.manylinux2010_x86_64.whl (3.3 MB)\n",
            "\u001b[K     |████████████████████████████████| 3.3 MB 38.2 MB/s \n",
            "\u001b[?25hRequirement already satisfied: requests in /usr/local/lib/python3.7/dist-packages (from transformers) (2.23.0)\n",
            "Requirement already satisfied: numpy>=1.17 in /usr/local/lib/python3.7/dist-packages (from transformers) (1.19.5)\n",
            "Requirement already satisfied: filelock in /usr/local/lib/python3.7/dist-packages (from transformers) (3.0.12)\n",
            "Requirement already satisfied: importlib-metadata in /usr/local/lib/python3.7/dist-packages (from transformers) (4.6.1)\n",
            "Collecting huggingface-hub==0.0.12\n",
            "  Downloading huggingface_hub-0.0.12-py3-none-any.whl (37 kB)\n",
            "Collecting pyyaml>=5.1\n",
            "  Downloading PyYAML-5.4.1-cp37-cp37m-manylinux1_x86_64.whl (636 kB)\n",
            "\u001b[K     |████████████████████████████████| 636 kB 44.4 MB/s \n",
            "\u001b[?25hRequirement already satisfied: tqdm>=4.27 in /usr/local/lib/python3.7/dist-packages (from transformers) (4.41.1)\n",
            "Requirement already satisfied: packaging in /usr/local/lib/python3.7/dist-packages (from transformers) (21.0)\n",
            "Requirement already satisfied: typing-extensions in /usr/local/lib/python3.7/dist-packages (from huggingface-hub==0.0.12->transformers) (3.7.4.3)\n",
            "Requirement already satisfied: pyparsing>=2.0.2 in /usr/local/lib/python3.7/dist-packages (from packaging->transformers) (2.4.7)\n",
            "Requirement already satisfied: zipp>=0.5 in /usr/local/lib/python3.7/dist-packages (from importlib-metadata->transformers) (3.5.0)\n",
            "Requirement already satisfied: urllib3!=1.25.0,!=1.25.1,<1.26,>=1.21.1 in /usr/local/lib/python3.7/dist-packages (from requests->transformers) (1.24.3)\n",
            "Requirement already satisfied: chardet<4,>=3.0.2 in /usr/local/lib/python3.7/dist-packages (from requests->transformers) (3.0.4)\n",
            "Requirement already satisfied: idna<3,>=2.5 in /usr/local/lib/python3.7/dist-packages (from requests->transformers) (2.10)\n",
            "Requirement already satisfied: certifi>=2017.4.17 in /usr/local/lib/python3.7/dist-packages (from requests->transformers) (2021.5.30)\n",
            "Requirement already satisfied: six in /usr/local/lib/python3.7/dist-packages (from sacremoses->transformers) (1.15.0)\n",
            "Requirement already satisfied: joblib in /usr/local/lib/python3.7/dist-packages (from sacremoses->transformers) (1.0.1)\n",
            "Requirement already satisfied: click in /usr/local/lib/python3.7/dist-packages (from sacremoses->transformers) (7.1.2)\n",
            "Installing collected packages: tokenizers, sacremoses, pyyaml, huggingface-hub, transformers\n",
            "  Attempting uninstall: pyyaml\n",
            "    Found existing installation: PyYAML 3.13\n",
            "    Uninstalling PyYAML-3.13:\n",
            "      Successfully uninstalled PyYAML-3.13\n",
            "Successfully installed huggingface-hub-0.0.12 pyyaml-5.4.1 sacremoses-0.0.45 tokenizers-0.10.3 transformers-4.9.1\n"
          ],
          "name": "stdout"
        }
      ]
    },
    {
      "cell_type": "code",
      "metadata": {
        "colab": {
          "base_uri": "https://localhost:8080/",
          "height": 262,
          "referenced_widgets": [
            "6ffdb7d1023346f2b3340545372d16ce",
            "83341519e98b4a1bb820e56cc626db09",
            "79e1d0364fa444acb9f4cd987ed361c7",
            "2154f7db35bb4bd784d3bc7032124f7c",
            "ab0f144b3a4541a6b781be8beed08698",
            "b068838a296840c2b4e52fb6865fc827",
            "7aeefc690af44963b34c52fb1a8d1cfb",
            "8aaea67adcf947a3a8010ff5b89b2e07",
            "814c84d0613d4c4fbe31c8a64e433748",
            "5a195f359fef45f1920353944ab81957",
            "9b90d9b24d8e431eb3f51b34ea087b8f",
            "2cdf7a0cac934c0482ccd4e5874d589a",
            "a17a69d24c2645bda796f516061e8a22",
            "88ed686a17cc4621a90fca876f380b63",
            "ba7d3d5dedf6412b8034f205a9494b51",
            "9ac7c1a9a00d4239a26dfa390561ae4c",
            "5567c174e489496cbbd2afd823c4a3eb",
            "808a5127ec9c46eab9c7e7eaf30722fa",
            "ea26989500e64d5da0036af613e53598",
            "0af22de1a75e48bebbbd3f480a20b3e9",
            "366417763fcf499e85650f53720c9b92",
            "72f182a487284fb5b19102c0a7aede5b",
            "8e71a177276f4fce8587c8740a3e6363",
            "819b403365c1490db3ed954cc3c0e600",
            "927273079a9d4f7fb057b4c0efba2aec",
            "b017d647345d4e1eac1d63c474257508",
            "23fbeb8f9bf34d49b1a11f59d54de84b",
            "f85431ffe3a14010b23b7c4042c9a224",
            "5b5eb180923048beb92add8b8b746c25",
            "83821aeb0ca24ad08436c0915aeb46a7",
            "8cb76b8e6c57462a8a3e17c6ac8e8649",
            "2a24a5b246fa4f89bbb12d190c54bbad",
            "6c06d79601a24988a4227e77197f02cb",
            "2b2ece85c9504c5fa9c92da5421da109",
            "827e070038044318a8e8ea44a8f7ac54",
            "6e7461f4cbe14e76b82412eaee0adc6a",
            "9db2f18bd2cd4650b3069394a6926710",
            "9da8df05768948b7a0c1b120a8b755c8",
            "30226a767a704161a485192b7b802a10",
            "899df2f80a77460690f9cf4e3b2c80cd"
          ]
        },
        "id": "KeJQerZqOfw3",
        "outputId": "99ce5ff4-9d8c-40a6-a9f8-15f920fc2281"
      },
      "source": [
        "from transformers import AutoTokenizer, AutoModelForSequenceClassification\n",
        "  \n",
        "tokenizer = AutoTokenizer.from_pretrained(\"sismetanin/rubert-toxic-pikabu-2ch\")\n",
        "\n",
        "model = AutoModelForSequenceClassification.from_pretrained(\"sismetanin/rubert-toxic-pikabu-2ch\")"
      ],
      "execution_count": 2,
      "outputs": [
        {
          "output_type": "display_data",
          "data": {
            "application/vnd.jupyter.widget-view+json": {
              "model_id": "6ffdb7d1023346f2b3340545372d16ce",
              "version_minor": 0,
              "version_major": 2
            },
            "text/plain": [
              "HBox(children=(FloatProgress(value=0.0, description='Downloading', max=540.0, style=ProgressStyle(description_…"
            ]
          },
          "metadata": {
            "tags": []
          }
        },
        {
          "output_type": "stream",
          "text": [
            "\n"
          ],
          "name": "stdout"
        },
        {
          "output_type": "display_data",
          "data": {
            "application/vnd.jupyter.widget-view+json": {
              "model_id": "814c84d0613d4c4fbe31c8a64e433748",
              "version_minor": 0,
              "version_major": 2
            },
            "text/plain": [
              "HBox(children=(FloatProgress(value=0.0, description='Downloading', max=920.0, style=ProgressStyle(description_…"
            ]
          },
          "metadata": {
            "tags": []
          }
        },
        {
          "output_type": "stream",
          "text": [
            "\n"
          ],
          "name": "stdout"
        },
        {
          "output_type": "display_data",
          "data": {
            "application/vnd.jupyter.widget-view+json": {
              "model_id": "5567c174e489496cbbd2afd823c4a3eb",
              "version_minor": 0,
              "version_major": 2
            },
            "text/plain": [
              "HBox(children=(FloatProgress(value=0.0, description='Downloading', max=1649718.0, style=ProgressStyle(descript…"
            ]
          },
          "metadata": {
            "tags": []
          }
        },
        {
          "output_type": "stream",
          "text": [
            "\n"
          ],
          "name": "stdout"
        },
        {
          "output_type": "display_data",
          "data": {
            "application/vnd.jupyter.widget-view+json": {
              "model_id": "927273079a9d4f7fb057b4c0efba2aec",
              "version_minor": 0,
              "version_major": 2
            },
            "text/plain": [
              "HBox(children=(FloatProgress(value=0.0, description='Downloading', max=112.0, style=ProgressStyle(description_…"
            ]
          },
          "metadata": {
            "tags": []
          }
        },
        {
          "output_type": "stream",
          "text": [
            "\n"
          ],
          "name": "stdout"
        },
        {
          "output_type": "display_data",
          "data": {
            "application/vnd.jupyter.widget-view+json": {
              "model_id": "6c06d79601a24988a4227e77197f02cb",
              "version_minor": 0,
              "version_major": 2
            },
            "text/plain": [
              "HBox(children=(FloatProgress(value=0.0, description='Downloading', max=711506441.0, style=ProgressStyle(descri…"
            ]
          },
          "metadata": {
            "tags": []
          }
        },
        {
          "output_type": "stream",
          "text": [
            "\n"
          ],
          "name": "stdout"
        }
      ]
    },
    {
      "cell_type": "code",
      "metadata": {
        "id": "AANgqBWzSroe"
      },
      "source": [
        "import pandas as pd\n",
        "xls = pd.ExcelFile('Негатив_пример.xlsx')\n",
        "xls_toxic = pd.read_excel('Негатив_пример.xlsx', index_col=None, header=0)  "
      ],
      "execution_count": 3,
      "outputs": []
    },
    {
      "cell_type": "code",
      "metadata": {
        "colab": {
          "base_uri": "https://localhost:8080/"
        },
        "id": "CMzFj9iTSxSS",
        "outputId": "d3bc4bee-5611-465b-97f8-348052b5ca1c"
      },
      "source": [
        "xls_toxic['Text'][3].split(' ')"
      ],
      "execution_count": 4,
      "outputs": [
        {
          "output_type": "execute_result",
          "data": {
            "text/plain": [
              "['завтра', 'же', 'нахер', 'все', 'позакрою', 'тут,', 'ебучее', 'говно']"
            ]
          },
          "metadata": {
            "tags": []
          },
          "execution_count": 4
        }
      ]
    },
    {
      "cell_type": "code",
      "metadata": {
        "id": "IRPbND0M_Okd"
      },
      "source": [
        "def razbienie(str):\n",
        "    spisok_str = str.split(' ')\n",
        "\n",
        "    new_spisok = []\n",
        "    i = 0\n",
        "    if len(spisok_str) == 1:\n",
        "        new_spisok.append(spisok_str[i])\n",
        "        return new_spisok\n",
        "    while i <= len(spisok_str)-1:\n",
        "        if i == 0:\n",
        "          new_spisok.append(spisok_str[i-1] + ' ' + spisok_str[i] + ' ' + spisok_str[i+1])\n",
        "          i += 1\n",
        "        elif i == len(spisok_str)-1 and i != 0:\n",
        "          new_spisok.append(spisok_str[i-1] + ' ' + spisok_str[i])\n",
        "          i += 1\n",
        "        else:\n",
        "          new_spisok.append(spisok_str[i-1] + ' ' + spisok_str[i] + ' ' + spisok_str[i+1])\n",
        "  \n",
        "          i += 1\n",
        "    return new_spisok"
      ],
      "execution_count": 20,
      "outputs": []
    },
    {
      "cell_type": "code",
      "metadata": {
        "id": "lV4MAaF0QaxU"
      },
      "source": [
        "pt_batches = []\n",
        "for i in range(len(xls_toxic['Text'])):\n",
        "  #print(xls_toxic['Text'][i].split(' '))\n",
        "  pt_batch = tokenizer(\n",
        "    razbienie(xls_toxic['Text'][i]),\n",
        "    padding=True,    truncation=True,    max_length=512,    return_tensors=\"pt\" )\n",
        "  pt_batches.append(pt_batch)"
      ],
      "execution_count": 23,
      "outputs": []
    },
    {
      "cell_type": "code",
      "metadata": {
        "id": "TyhlvaucOqSn"
      },
      "source": [
        "from torch import nn\n",
        "pt_predictions = []\n",
        "for pt_batch in pt_batches:\n",
        "  pt_output = model(**pt_batch)\n",
        "  pt_prediction = nn.functional.softmax(pt_output.logits, dim=-1)\n",
        "  pt_predictions.append(pt_prediction)"
      ],
      "execution_count": 25,
      "outputs": []
    },
    {
      "cell_type": "code",
      "metadata": {
        "colab": {
          "base_uri": "https://localhost:8080/"
        },
        "id": "1HJCQPmhb_Cb",
        "outputId": "417de0b9-6d52-4df9-fea0-db8e8170f616"
      },
      "source": [
        "pt_predictions[1]"
      ],
      "execution_count": 28,
      "outputs": [
        {
          "output_type": "execute_result",
          "data": {
            "text/plain": [
              "tensor([[0.9979, 0.0021],\n",
              "        [0.9970, 0.0030]], grad_fn=<SoftmaxBackward>)"
            ]
          },
          "metadata": {
            "tags": []
          },
          "execution_count": 28
        }
      ]
    },
    {
      "cell_type": "code",
      "metadata": {
        "colab": {
          "base_uri": "https://localhost:8080/"
        },
        "id": "9qWzME2sfvzb",
        "outputId": "5da88976-0378-4966-a133-1939d57f1022"
      },
      "source": [
        "xls_toxic['Text'][3], pt_predictions[3]"
      ],
      "execution_count": 29,
      "outputs": [
        {
          "output_type": "execute_result",
          "data": {
            "text/plain": [
              "('завтра же нахер все позакрою тут, ебучее говно', tensor([[0.0564, 0.9436],\n",
              "         [0.0126, 0.9874],\n",
              "         [0.0236, 0.9764],\n",
              "         [0.3741, 0.6259],\n",
              "         [0.9895, 0.0105],\n",
              "         [0.0247, 0.9753],\n",
              "         [0.0195, 0.9805],\n",
              "         [0.0412, 0.9588]], grad_fn=<SoftmaxBackward>))"
            ]
          },
          "metadata": {
            "tags": []
          },
          "execution_count": 29
        }
      ]
    },
    {
      "cell_type": "code",
      "metadata": {
        "colab": {
          "base_uri": "https://localhost:8080/"
        },
        "id": "OOj07j-ghoYU",
        "outputId": "650a936d-5e45-4890-c957-e7a6cdd266fb"
      },
      "source": [
        "import numpy as np\n",
        "bad_words_full = []\n",
        "procents = []\n",
        "for i in range(len(pt_predictions)):\n",
        "  bad_words = []\n",
        "  words = razbienie(xls_toxic['Text'][i])\n",
        "  #print(float(pt_predictions[i][0][1])) \n",
        "  for j in range(len(pt_predictions[i])):\n",
        "    if float(pt_predictions[i][j][1]) > 0.7:\n",
        "      #print(type(words[j]))\n",
        "      bad_words.append((words[j], np.round(float(pt_predictions[i][j][1]), 4)))\n",
        "      #bad_words.append(float(pt_predictions[i][j][1]))\n",
        "  procent = len(bad_words)/len(words)\n",
        "  procents.append(procent)\n",
        "  bad_words_full.append(bad_words)\n",
        "print(bad_words_full)"
      ],
      "execution_count": 34,
      "outputs": [
        {
          "output_type": "stream",
          "text": [
            "[[], [], [('мой деньги паскуды,', 0.9484)], [('говно завтра же', 0.9436), ('завтра же нахер', 0.9874), ('же нахер все', 0.9764), ('позакрою тут, ебучее', 0.9753), ('тут, ебучее говно', 0.9805), ('ебучее говно', 0.9588)], [], [('Говно', 0.9455)], [('что за хрень', 0.9911), ('за хрень творится', 0.967)], [], [('жалобу буду писать', 0.8645), ('буду писать жалобу', 0.881), ('писать жалобу', 0.9057)], [('! Вы издеваетесь', 0.9597), ('Вы издеваетесь ?!', 0.9512), ('издеваетесь ?! Мне', 0.9262), ('и я не', 0.8666)], [], [], [('издеваетесь? вы издеваетесь?', 0.929), ('вы издеваетесь?', 0.9571)], [], [], [('!!! Пидары ебаные', 0.9943), ('Пидары ебаные !!!', 0.9927), ('ебаные !!!', 0.988)], [('Роспотребнадзор я сейчас', 0.867)], [], [], [('ебаные Уроды вы', 0.9893), ('Уроды вы ебаные', 0.9807), ('вы ебаные', 0.9707)], [], [], [('что я их', 0.9845), ('Че за херня', 0.9939), ('за херня происходит', 0.9868), ('херня происходит', 0.8873)], [('сообщить. Вы издевается?', 0.9596), ('Вы издевается? Уже', 0.9529)], [], [], [('че за херня', 0.9939), ('за херня опять', 0.9934), ('херня опять у', 0.9937), ('опять у вас', 0.8513)], [], [('херня Что за', 0.9916), ('Что за херня', 0.9945), ('за херня', 0.9926)], [('????? блять ну', 0.932), ('блять ну что', 0.9636), ('что за хуйня', 0.9947), ('за хуйня ?????', 0.9921), ('хуйня ?????', 0.9855)], [('блять Ало блять', 0.9773), ('Ало блять', 0.9679)], [], [], [], [('стыдно та за', 0.8821)], [], [('ли? издеваетесь ', 0.9526), ('издеваетесь  что', 0.9742)], [], [('понимать??? вы издеваетесь', 0.8988), ('вы издеваетесь или', 0.9185), ('издеваетесь или как', 0.9522)], [('издеваетесь? Вы издеваетесь?', 0.929), ('Вы издеваетесь?', 0.9571)], [('я должна ее', 0.9604)], [('издеваетесь Помоему вы', 0.9654), ('Помоему вы издеваетесь', 0.962), ('вы издеваетесь', 0.9293)], [], [], [('брать!? че блядь', 0.9109), ('че блядь с', 0.9848), ('блядь с капейки', 0.9805)], [('поддержка самая ебанутая', 0.9949), ('самая ебанутая поддержка', 0.9652), ('ебанутая поддержка', 0.9666)], [('издеваетесь Вы издеваетесь', 0.9048), ('Вы издеваетесь', 0.9293)], [('посмотреть? Издеваетесь? Вы', 0.8858), ('Издеваетесь? Вы переписку', 0.9623)], [], [], [], [], [], [('со своим тупым', 0.9935), ('своим тупым приложением,', 0.9872), ('тупым приложением, постоянно', 0.9859), ('часа пялиться в', 0.9401)], [('издеваетесь? вы издеваетесь?', 0.929), ('вы издеваетесь?', 0.9571)], [], [('акции.вылазиет ваша ебаная', 0.9899)], [('хренью Почему я', 0.9695), ('какой то хренью', 0.9894), ('то хренью', 0.992)], [], [], [], [], [('БЕЗДЕЛЬНИКИ!!! ПОЧЕМУ Я', 0.9873), ('ВЫ ДОСТАЛИ!!!! Я', 0.9176), ('ЗАРПЛАТУ БЕЗДЕЛЬНИКИ!!!', 0.985)], [('Хреново', 0.9431)], [], [], [(') Как, бляди,', 0.9704), ('Как, бляди, у', 0.9872), ('бляди, у вас', 0.9448)], [], [('издеваетесь? Вы реально', 0.9194), ('Вы реально издеваетесь?', 0.9728), ('реально издеваетесь?', 0.9623)], [], [('писать жалобу на', 0.8777)], [('там что издеваетесь?', 0.9874), ('что издеваетесь?', 0.9801)], [('сейчас звоню с', 0.9524), ('звоню с жалобой', 0.921), ('жалобой на вашу', 0.931)], [('когда эта херня', 0.9953), ('эта херня прекратится?', 0.9868), ('херня прекратится?', 0.9031)], [], [('жопе а че', 0.9805), ('сбер в жопе', 0.9807), ('в жопе', 0.9743)], [('ваши програмисты зря', 0.9383)], [('ВАШИХ УЖАСНЫХ ПРОГРАМИСТОВ?', 0.939), ('УЖАСНЫХ ПРОГРАМИСТОВ? ПОСТОЯННО', 0.8675), ('ВАМИ. ЕСЛИ ВЫ', 0.939), ('КЛИЕНТАМ, Я УЙДУ', 0.974), ('Я УЙДУ ОТ', 0.9837), ('УЙДУ ОТ ВАС', 0.893)], [('издеваетесь?', 0.9623)], [('!! Обновлял, ебаный', 0.993), ('Обновлял, ебаный врот', 0.9939), ('ебаный врот !!', 0.9927)], [('издеваетесь вы издеваетесь', 0.9048), ('вы издеваетесь', 0.9293)], [], [], [('или завтра подам', 0.926), ('завтра подам на', 0.9817), ('подам на вас', 0.9594), ('на вас жалобу', 0.8706), ('жалобу руковолству Сбера!', 0.8663)], [('хрень Ещё что', 0.8907), ('что за хрень', 0.9911), ('за хрень', 0.9814)], [('за хрень???', 0.8531)], [('херня че за', 0.9938), ('че за херня', 0.9939), ('за херня', 0.9926)], [], [], [], [('вы видимо издеваетесь.', 0.9845), ('видимо издеваетесь. надеюсь', 0.9749), ('издеваетесь. надеюсь вам', 0.9457), ('почему у крупнейшего', 0.8989)], [], [], [('блокируете. почему я', 0.8667), ('этот вопрос Путину?', 0.9796), ('вопрос Путину? Почему', 0.9865), ('Путину? Почему я', 0.9862), ('здесь Анатолий, Алиса,', 0.8797), ('Алиса, Сири? У', 0.9045), ('Сири? У вас', 0.8749), ('вас руководитель Герман', 0.9115), ('Герман Греф. Прекратите', 0.8657), ('Прекратите надо мной', 0.9727), ('надо мной издеваться,', 0.9935), ('мной издеваться, почему', 0.9852), ('издеваться, почему мне', 0.9207), ('пытался с вами', 0.9541)], [('что за тупое', 0.9922), ('за тупое приложение', 0.989), ('тупое приложение', 0.9861)], [], [], [('коллег с Тинькова', 0.9723), ('с Тинькова ,', 0.9766), ('Тинькова , альфы,', 0.9746)], [('писать на вас', 0.9603), ('на вас жалобу,', 0.9096), ('вас жалобу, и', 0.9208)], [('издеваетесь', 0.9586)], [('. Ваша тех', 0.9688), ('перейду к другому', 0.9396)], [('Вас? Вы издеваетесь?', 0.9554), ('Вы издеваетесь? Вы', 0.9258), ('издеваетесь? Вы меня', 0.9454), ('меня конскльтируете или', 0.8869), ('конскльтируете или я', 0.9292), ('или я Вас?', 0.8754), ('я Вас?', 0.9439)], [], [('втб, Тинькофф, таких', 0.9471)], [('издеваетесь? Вы издеваетесь?', 0.929), ('Вы издеваетесь?', 0.9571)], [('никому. у вас', 0.8726)], [('что за хуйня', 0.9947), ('за хуйня опять', 0.9945), ('хуйня опять у', 0.9934), ('опять у вас', 0.8513), ('у вас там', 0.8866), ('вас там творится', 0.861)], [('хуйня потому по', 0.9911), ('потому по щётку', 0.9832), ('щётку такая хуйня', 0.9947), ('такая хуйня', 0.9946)], [], [('Чо за хрень', 0.9795)]]\n"
          ],
          "name": "stdout"
        }
      ]
    },
    {
      "cell_type": "code",
      "metadata": {
        "id": "1Sh-uAeotJQ0"
      },
      "source": [
        "xls_toxic['Bad_words'] = bad_words_full\n",
        "xls_toxic['Percentage of bad'] = np.round(procents, 4)"
      ],
      "execution_count": 35,
      "outputs": []
    },
    {
      "cell_type": "code",
      "metadata": {
        "colab": {
          "base_uri": "https://localhost:8080/",
          "height": 419
        },
        "id": "GshAxGaguFyR",
        "outputId": "a907bef6-ef6a-483b-ea9b-2e4909088579"
      },
      "source": [
        "xls_toxic"
      ],
      "execution_count": 36,
      "outputs": [
        {
          "output_type": "execute_result",
          "data": {
            "text/html": [
              "<div>\n",
              "<style scoped>\n",
              "    .dataframe tbody tr th:only-of-type {\n",
              "        vertical-align: middle;\n",
              "    }\n",
              "\n",
              "    .dataframe tbody tr th {\n",
              "        vertical-align: top;\n",
              "    }\n",
              "\n",
              "    .dataframe thead th {\n",
              "        text-align: right;\n",
              "    }\n",
              "</style>\n",
              "<table border=\"1\" class=\"dataframe\">\n",
              "  <thead>\n",
              "    <tr style=\"text-align: right;\">\n",
              "      <th></th>\n",
              "      <th>Text</th>\n",
              "      <th>Bad_words</th>\n",
              "      <th>Percentage of bad</th>\n",
              "    </tr>\n",
              "  </thead>\n",
              "  <tbody>\n",
              "    <tr>\n",
              "      <th>0</th>\n",
              "      <td>ужасная поддержка!</td>\n",
              "      <td>[]</td>\n",
              "      <td>0.0000</td>\n",
              "    </tr>\n",
              "    <tr>\n",
              "      <th>1</th>\n",
              "      <td>ужасная поддержка</td>\n",
              "      <td>[]</td>\n",
              "      <td>0.0000</td>\n",
              "    </tr>\n",
              "    <tr>\n",
              "      <th>2</th>\n",
              "      <td>где мой деньги паскуды, сколько можно херней з...</td>\n",
              "      <td>[(мой деньги паскуды,, 0.9484)]</td>\n",
              "      <td>0.1250</td>\n",
              "    </tr>\n",
              "    <tr>\n",
              "      <th>3</th>\n",
              "      <td>завтра же нахер все позакрою тут, ебучее говно</td>\n",
              "      <td>[(говно завтра же, 0.9436), (завтра же нахер, ...</td>\n",
              "      <td>0.7500</td>\n",
              "    </tr>\n",
              "    <tr>\n",
              "      <th>4</th>\n",
              "      <td>У вас приложение говно полное</td>\n",
              "      <td>[]</td>\n",
              "      <td>0.0000</td>\n",
              "    </tr>\n",
              "    <tr>\n",
              "      <th>...</th>\n",
              "      <td>...</td>\n",
              "      <td>...</td>\n",
              "      <td>...</td>\n",
              "    </tr>\n",
              "    <tr>\n",
              "      <th>105</th>\n",
              "      <td>скажите, где и кому сообщать по поводу работы ...</td>\n",
              "      <td>[(никому. у вас, 0.8726)]</td>\n",
              "      <td>0.0500</td>\n",
              "    </tr>\n",
              "    <tr>\n",
              "      <th>106</th>\n",
              "      <td>что за хуйня опять у вас там творится</td>\n",
              "      <td>[(что за хуйня, 0.9947), (за хуйня опять, 0.99...</td>\n",
              "      <td>0.7500</td>\n",
              "    </tr>\n",
              "    <tr>\n",
              "      <th>107</th>\n",
              "      <td>потому по щётку такая хуйня</td>\n",
              "      <td>[(хуйня потому по, 0.9911), (потому по щётку, ...</td>\n",
              "      <td>0.8000</td>\n",
              "    </tr>\n",
              "    <tr>\n",
              "      <th>108</th>\n",
              "      <td>что значит \"зафиксировать обращение\"? я хочу в...</td>\n",
              "      <td>[]</td>\n",
              "      <td>0.0000</td>\n",
              "    </tr>\n",
              "    <tr>\n",
              "      <th>109</th>\n",
              "      <td>Чо за хрень 30 акций поставил на продажу проща...</td>\n",
              "      <td>[(Чо за хрень, 0.9795)]</td>\n",
              "      <td>0.0435</td>\n",
              "    </tr>\n",
              "  </tbody>\n",
              "</table>\n",
              "<p>110 rows × 3 columns</p>\n",
              "</div>"
            ],
            "text/plain": [
              "                                                  Text  ... Percentage of bad\n",
              "0                                   ужасная поддержка!  ...            0.0000\n",
              "1                                    ужасная поддержка  ...            0.0000\n",
              "2    где мой деньги паскуды, сколько можно херней з...  ...            0.1250\n",
              "3       завтра же нахер все позакрою тут, ебучее говно  ...            0.7500\n",
              "4                        У вас приложение говно полное  ...            0.0000\n",
              "..                                                 ...  ...               ...\n",
              "105  скажите, где и кому сообщать по поводу работы ...  ...            0.0500\n",
              "106              что за хуйня опять у вас там творится  ...            0.7500\n",
              "107                        потому по щётку такая хуйня  ...            0.8000\n",
              "108  что значит \"зафиксировать обращение\"? я хочу в...  ...            0.0000\n",
              "109  Чо за хрень 30 акций поставил на продажу проща...  ...            0.0435\n",
              "\n",
              "[110 rows x 3 columns]"
            ]
          },
          "metadata": {
            "tags": []
          },
          "execution_count": 36
        }
      ]
    },
    {
      "cell_type": "code",
      "metadata": {
        "id": "a7T9rnXMuvkT"
      },
      "source": [
        "xls_toxic.to_excel('негатив_вывод_ver_7.xlsx')"
      ],
      "execution_count": 38,
      "outputs": []
    },
    {
      "cell_type": "code",
      "metadata": {
        "id": "EkOnvYBGaoDQ"
      },
      "source": [
        ""
      ],
      "execution_count": null,
      "outputs": []
    },
    {
      "cell_type": "code",
      "metadata": {
        "id": "ct8jqa_aVvEp"
      },
      "source": [
        ""
      ],
      "execution_count": null,
      "outputs": []
    }
  ]
}