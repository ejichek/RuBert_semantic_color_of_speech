{
  "nbformat": 4,
  "nbformat_minor": 0,
  "metadata": {
    "colab": {
      "name": "RuBERT_toxicity_version_1-5.ipynb",
      "provenance": [],
      "collapsed_sections": []
    },
    "kernelspec": {
      "name": "python3",
      "display_name": "Python 3"
    },
    "language_info": {
      "name": "python"
    }
  },
  "cells": [
    {
      "cell_type": "code",
      "metadata": {
        "colab": {
          "base_uri": "https://localhost:8080/"
        },
        "id": "lveixW-rOhUQ",
        "outputId": "aa648610-4f59-467c-e633-472cd712ba0a"
      },
      "source": [
        "pip install transformers"
      ],
      "execution_count": 2,
      "outputs": [
        {
          "output_type": "stream",
          "text": [
            "Requirement already satisfied: transformers in /usr/local/lib/python3.7/dist-packages (4.9.2)\n",
            "Requirement already satisfied: tokenizers<0.11,>=0.10.1 in /usr/local/lib/python3.7/dist-packages (from transformers) (0.10.3)\n",
            "Requirement already satisfied: requests in /usr/local/lib/python3.7/dist-packages (from transformers) (2.23.0)\n",
            "Requirement already satisfied: pyyaml>=5.1 in /usr/local/lib/python3.7/dist-packages (from transformers) (5.4.1)\n",
            "Requirement already satisfied: numpy>=1.17 in /usr/local/lib/python3.7/dist-packages (from transformers) (1.19.5)\n",
            "Requirement already satisfied: filelock in /usr/local/lib/python3.7/dist-packages (from transformers) (3.0.12)\n",
            "Requirement already satisfied: huggingface-hub==0.0.12 in /usr/local/lib/python3.7/dist-packages (from transformers) (0.0.12)\n",
            "Requirement already satisfied: regex!=2019.12.17 in /usr/local/lib/python3.7/dist-packages (from transformers) (2019.12.20)\n",
            "Requirement already satisfied: importlib-metadata in /usr/local/lib/python3.7/dist-packages (from transformers) (4.6.4)\n",
            "Requirement already satisfied: tqdm>=4.27 in /usr/local/lib/python3.7/dist-packages (from transformers) (4.62.0)\n",
            "Requirement already satisfied: sacremoses in /usr/local/lib/python3.7/dist-packages (from transformers) (0.0.45)\n",
            "Requirement already satisfied: packaging in /usr/local/lib/python3.7/dist-packages (from transformers) (21.0)\n",
            "Requirement already satisfied: typing-extensions in /usr/local/lib/python3.7/dist-packages (from huggingface-hub==0.0.12->transformers) (3.7.4.3)\n",
            "Requirement already satisfied: pyparsing>=2.0.2 in /usr/local/lib/python3.7/dist-packages (from packaging->transformers) (2.4.7)\n",
            "Requirement already satisfied: zipp>=0.5 in /usr/local/lib/python3.7/dist-packages (from importlib-metadata->transformers) (3.5.0)\n",
            "Requirement already satisfied: chardet<4,>=3.0.2 in /usr/local/lib/python3.7/dist-packages (from requests->transformers) (3.0.4)\n",
            "Requirement already satisfied: urllib3!=1.25.0,!=1.25.1,<1.26,>=1.21.1 in /usr/local/lib/python3.7/dist-packages (from requests->transformers) (1.24.3)\n",
            "Requirement already satisfied: idna<3,>=2.5 in /usr/local/lib/python3.7/dist-packages (from requests->transformers) (2.10)\n",
            "Requirement already satisfied: certifi>=2017.4.17 in /usr/local/lib/python3.7/dist-packages (from requests->transformers) (2021.5.30)\n",
            "Requirement already satisfied: click in /usr/local/lib/python3.7/dist-packages (from sacremoses->transformers) (7.1.2)\n",
            "Requirement already satisfied: six in /usr/local/lib/python3.7/dist-packages (from sacremoses->transformers) (1.15.0)\n",
            "Requirement already satisfied: joblib in /usr/local/lib/python3.7/dist-packages (from sacremoses->transformers) (1.0.1)\n"
          ],
          "name": "stdout"
        }
      ]
    },
    {
      "cell_type": "code",
      "metadata": {
        "id": "KeJQerZqOfw3"
      },
      "source": [
        "from transformers import AutoTokenizer, AutoModelForSequenceClassification\n",
        "  \n",
        "tokenizer = AutoTokenizer.from_pretrained(\"sismetanin/rubert-toxic-pikabu-2ch\")\n",
        "\n",
        "model = AutoModelForSequenceClassification.from_pretrained(\"sismetanin/rubert-toxic-pikabu-2ch\")"
      ],
      "execution_count": 3,
      "outputs": []
    },
    {
      "cell_type": "code",
      "metadata": {
        "id": "AANgqBWzSroe"
      },
      "source": [
        "import pandas as pd\n",
        "xls = pd.ExcelFile('Негатив_пример.xlsx')\n",
        "xls_toxic = pd.read_excel('Негатив_пример.xlsx', index_col=None, header=0)  "
      ],
      "execution_count": null,
      "outputs": []
    },
    {
      "cell_type": "code",
      "metadata": {
        "colab": {
          "base_uri": "https://localhost:8080/"
        },
        "id": "CMzFj9iTSxSS",
        "outputId": "d3bc4bee-5611-465b-97f8-348052b5ca1c"
      },
      "source": [
        "xls_toxic['Text'][3].split(' ')"
      ],
      "execution_count": null,
      "outputs": [
        {
          "output_type": "execute_result",
          "data": {
            "text/plain": [
              "['завтра', 'же', 'нахер', 'все', 'позакрою', 'тут,', 'ебучее', 'говно']"
            ]
          },
          "metadata": {
            "tags": []
          },
          "execution_count": 4
        }
      ]
    },
    {
      "cell_type": "code",
      "metadata": {
        "id": "IRPbND0M_Okd"
      },
      "source": [
        "def razbienie(str):\n",
        "    spisok_str = str.split(' ')\n",
        "\n",
        "    new_spisok = []\n",
        "    i = 0\n",
        "    if len(spisok_str) == 1:\n",
        "        new_spisok.append(spisok_str[i])\n",
        "        return new_spisok\n",
        "    while i <= len(spisok_str)-1:\n",
        "        if i == 0:\n",
        "          new_spisok.append(spisok_str[i-1] + ' ' + spisok_str[i] + ' ' + spisok_str[i+1])\n",
        "          i += 1\n",
        "        elif i == len(spisok_str)-1 and i != 0:\n",
        "          new_spisok.append(spisok_str[i-1] + ' ' + spisok_str[i])\n",
        "          i += 1\n",
        "        else:\n",
        "          new_spisok.append(spisok_str[i-1] + ' ' + spisok_str[i] + ' ' + spisok_str[i+1])\n",
        "  \n",
        "          i += 1\n",
        "    return new_spisok"
      ],
      "execution_count": null,
      "outputs": []
    },
    {
      "cell_type": "code",
      "metadata": {
        "id": "lV4MAaF0QaxU"
      },
      "source": [
        "pt_batches = []\n",
        "for i in range(len(xls_toxic['Text'])):\n",
        "  #print(xls_toxic['Text'][i].split(' '))\n",
        "  pt_batch = tokenizer(\n",
        "    razbienie(xls_toxic['Text'][i]),\n",
        "    padding=True,    truncation=True,    max_length=512,    return_tensors=\"pt\" )\n",
        "  pt_batches.append(pt_batch)"
      ],
      "execution_count": null,
      "outputs": []
    },
    {
      "cell_type": "code",
      "metadata": {
        "id": "TyhlvaucOqSn"
      },
      "source": [
        "from torch import nn\n",
        "pt_predictions = []\n",
        "for pt_batch in pt_batches:\n",
        "  pt_output = model(**pt_batch)\n",
        "  pt_prediction = nn.functional.softmax(pt_output.logits, dim=-1)\n",
        "  pt_predictions.append(pt_prediction)"
      ],
      "execution_count": null,
      "outputs": []
    },
    {
      "cell_type": "code",
      "metadata": {
        "colab": {
          "base_uri": "https://localhost:8080/"
        },
        "id": "1HJCQPmhb_Cb",
        "outputId": "417de0b9-6d52-4df9-fea0-db8e8170f616"
      },
      "source": [
        "pt_predictions[1]"
      ],
      "execution_count": null,
      "outputs": [
        {
          "output_type": "execute_result",
          "data": {
            "text/plain": [
              "tensor([[0.9979, 0.0021],\n",
              "        [0.9970, 0.0030]], grad_fn=<SoftmaxBackward>)"
            ]
          },
          "metadata": {
            "tags": []
          },
          "execution_count": 28
        }
      ]
    },
    {
      "cell_type": "code",
      "metadata": {
        "colab": {
          "base_uri": "https://localhost:8080/"
        },
        "id": "9qWzME2sfvzb",
        "outputId": "5da88976-0378-4966-a133-1939d57f1022"
      },
      "source": [
        "xls_toxic['Text'][3], pt_predictions[3]"
      ],
      "execution_count": null,
      "outputs": [
        {
          "output_type": "execute_result",
          "data": {
            "text/plain": [
              "('завтра же нахер все позакрою тут, ебучее говно', tensor([[0.0564, 0.9436],\n",
              "         [0.0126, 0.9874],\n",
              "         [0.0236, 0.9764],\n",
              "         [0.3741, 0.6259],\n",
              "         [0.9895, 0.0105],\n",
              "         [0.0247, 0.9753],\n",
              "         [0.0195, 0.9805],\n",
              "         [0.0412, 0.9588]], grad_fn=<SoftmaxBackward>))"
            ]
          },
          "metadata": {
            "tags": []
          },
          "execution_count": 29
        }
      ]
    },
    {
      "cell_type": "code",
      "metadata": {
        "colab": {
          "base_uri": "https://localhost:8080/"
        },
        "id": "OOj07j-ghoYU",
        "outputId": "650a936d-5e45-4890-c957-e7a6cdd266fb"
      },
      "source": [
        "import numpy as np\n",
        "bad_words_full = []\n",
        "procents = []\n",
        "for i in range(len(pt_predictions)):\n",
        "  bad_words = []\n",
        "  words = razbienie(xls_toxic['Text'][i])\n",
        "  #print(float(pt_predictions[i][0][1])) \n",
        "  for j in range(len(pt_predictions[i])):\n",
        "    if float(pt_predictions[i][j][1]) > 0.7:\n",
        "      #print(type(words[j]))\n",
        "      bad_words.append((words[j], np.round(float(pt_predictions[i][j][1]), 4)))\n",
        "      #bad_words.append(float(pt_predictions[i][j][1]))\n",
        "  procent = len(bad_words)/len(words)\n",
        "  procents.append(procent)\n",
        "  bad_words_full.append(bad_words)\n",
        "print(bad_words_full)"
      ],
      "execution_count": null,
      "outputs": [
        {
          "output_type": "stream",
          "text": [
            "[[], [], [('мой деньги паскуды,', 0.9484)], [('говно завтра же', 0.9436), ('завтра же нахер', 0.9874), ('же нахер все', 0.9764), ('позакрою тут, ебучее', 0.9753), ('тут, ебучее говно', 0.9805), ('ебучее говно', 0.9588)], [], [('Говно', 0.9455)], [('что за хрень', 0.9911), ('за хрень творится', 0.967)], [], [('жалобу буду писать', 0.8645), ('буду писать жалобу', 0.881), ('писать жалобу', 0.9057)], [('! Вы издеваетесь', 0.9597), ('Вы издеваетесь ?!', 0.9512), ('издеваетесь ?! Мне', 0.9262), ('и я не', 0.8666)], [], [], [('издеваетесь? вы издеваетесь?', 0.929), ('вы издеваетесь?', 0.9571)], [], [], [('!!! Пидары ебаные', 0.9943), ('Пидары ебаные !!!', 0.9927), ('ебаные !!!', 0.988)], [('Роспотребнадзор я сейчас', 0.867)], [], [], [('ебаные Уроды вы', 0.9893), ('Уроды вы ебаные', 0.9807), ('вы ебаные', 0.9707)], [], [], [('что я их', 0.9845), ('Че за херня', 0.9939), ('за херня происходит', 0.9868), ('херня происходит', 0.8873)], [('сообщить. Вы издевается?', 0.9596), ('Вы издевается? Уже', 0.9529)], [], [], [('че за херня', 0.9939), ('за херня опять', 0.9934), ('херня опять у', 0.9937), ('опять у вас', 0.8513)], [], [('херня Что за', 0.9916), ('Что за херня', 0.9945), ('за херня', 0.9926)], [('????? блять ну', 0.932), ('блять ну что', 0.9636), ('что за хуйня', 0.9947), ('за хуйня ?????', 0.9921), ('хуйня ?????', 0.9855)], [('блять Ало блять', 0.9773), ('Ало блять', 0.9679)], [], [], [], [('стыдно та за', 0.8821)], [], [('ли? издеваетесь ', 0.9526), ('издеваетесь  что', 0.9742)], [], [('понимать??? вы издеваетесь', 0.8988), ('вы издеваетесь или', 0.9185), ('издеваетесь или как', 0.9522)], [('издеваетесь? Вы издеваетесь?', 0.929), ('Вы издеваетесь?', 0.9571)], [('я должна ее', 0.9604)], [('издеваетесь Помоему вы', 0.9654), ('Помоему вы издеваетесь', 0.962), ('вы издеваетесь', 0.9293)], [], [], [('брать!? че блядь', 0.9109), ('че блядь с', 0.9848), ('блядь с капейки', 0.9805)], [('поддержка самая ебанутая', 0.9949), ('самая ебанутая поддержка', 0.9652), ('ебанутая поддержка', 0.9666)], [('издеваетесь Вы издеваетесь', 0.9048), ('Вы издеваетесь', 0.9293)], [('посмотреть? Издеваетесь? Вы', 0.8858), ('Издеваетесь? Вы переписку', 0.9623)], [], [], [], [], [], [('со своим тупым', 0.9935), ('своим тупым приложением,', 0.9872), ('тупым приложением, постоянно', 0.9859), ('часа пялиться в', 0.9401)], [('издеваетесь? вы издеваетесь?', 0.929), ('вы издеваетесь?', 0.9571)], [], [('акции.вылазиет ваша ебаная', 0.9899)], [('хренью Почему я', 0.9695), ('какой то хренью', 0.9894), ('то хренью', 0.992)], [], [], [], [], [('БЕЗДЕЛЬНИКИ!!! ПОЧЕМУ Я', 0.9873), ('ВЫ ДОСТАЛИ!!!! Я', 0.9176), ('ЗАРПЛАТУ БЕЗДЕЛЬНИКИ!!!', 0.985)], [('Хреново', 0.9431)], [], [], [(') Как, бляди,', 0.9704), ('Как, бляди, у', 0.9872), ('бляди, у вас', 0.9448)], [], [('издеваетесь? Вы реально', 0.9194), ('Вы реально издеваетесь?', 0.9728), ('реально издеваетесь?', 0.9623)], [], [('писать жалобу на', 0.8777)], [('там что издеваетесь?', 0.9874), ('что издеваетесь?', 0.9801)], [('сейчас звоню с', 0.9524), ('звоню с жалобой', 0.921), ('жалобой на вашу', 0.931)], [('когда эта херня', 0.9953), ('эта херня прекратится?', 0.9868), ('херня прекратится?', 0.9031)], [], [('жопе а че', 0.9805), ('сбер в жопе', 0.9807), ('в жопе', 0.9743)], [('ваши програмисты зря', 0.9383)], [('ВАШИХ УЖАСНЫХ ПРОГРАМИСТОВ?', 0.939), ('УЖАСНЫХ ПРОГРАМИСТОВ? ПОСТОЯННО', 0.8675), ('ВАМИ. ЕСЛИ ВЫ', 0.939), ('КЛИЕНТАМ, Я УЙДУ', 0.974), ('Я УЙДУ ОТ', 0.9837), ('УЙДУ ОТ ВАС', 0.893)], [('издеваетесь?', 0.9623)], [('!! Обновлял, ебаный', 0.993), ('Обновлял, ебаный врот', 0.9939), ('ебаный врот !!', 0.9927)], [('издеваетесь вы издеваетесь', 0.9048), ('вы издеваетесь', 0.9293)], [], [], [('или завтра подам', 0.926), ('завтра подам на', 0.9817), ('подам на вас', 0.9594), ('на вас жалобу', 0.8706), ('жалобу руковолству Сбера!', 0.8663)], [('хрень Ещё что', 0.8907), ('что за хрень', 0.9911), ('за хрень', 0.9814)], [('за хрень???', 0.8531)], [('херня че за', 0.9938), ('че за херня', 0.9939), ('за херня', 0.9926)], [], [], [], [('вы видимо издеваетесь.', 0.9845), ('видимо издеваетесь. надеюсь', 0.9749), ('издеваетесь. надеюсь вам', 0.9457), ('почему у крупнейшего', 0.8989)], [], [], [('блокируете. почему я', 0.8667), ('этот вопрос Путину?', 0.9796), ('вопрос Путину? Почему', 0.9865), ('Путину? Почему я', 0.9862), ('здесь Анатолий, Алиса,', 0.8797), ('Алиса, Сири? У', 0.9045), ('Сири? У вас', 0.8749), ('вас руководитель Герман', 0.9115), ('Герман Греф. Прекратите', 0.8657), ('Прекратите надо мной', 0.9727), ('надо мной издеваться,', 0.9935), ('мной издеваться, почему', 0.9852), ('издеваться, почему мне', 0.9207), ('пытался с вами', 0.9541)], [('что за тупое', 0.9922), ('за тупое приложение', 0.989), ('тупое приложение', 0.9861)], [], [], [('коллег с Тинькова', 0.9723), ('с Тинькова ,', 0.9766), ('Тинькова , альфы,', 0.9746)], [('писать на вас', 0.9603), ('на вас жалобу,', 0.9096), ('вас жалобу, и', 0.9208)], [('издеваетесь', 0.9586)], [('. Ваша тех', 0.9688), ('перейду к другому', 0.9396)], [('Вас? Вы издеваетесь?', 0.9554), ('Вы издеваетесь? Вы', 0.9258), ('издеваетесь? Вы меня', 0.9454), ('меня конскльтируете или', 0.8869), ('конскльтируете или я', 0.9292), ('или я Вас?', 0.8754), ('я Вас?', 0.9439)], [], [('втб, Тинькофф, таких', 0.9471)], [('издеваетесь? Вы издеваетесь?', 0.929), ('Вы издеваетесь?', 0.9571)], [('никому. у вас', 0.8726)], [('что за хуйня', 0.9947), ('за хуйня опять', 0.9945), ('хуйня опять у', 0.9934), ('опять у вас', 0.8513), ('у вас там', 0.8866), ('вас там творится', 0.861)], [('хуйня потому по', 0.9911), ('потому по щётку', 0.9832), ('щётку такая хуйня', 0.9947), ('такая хуйня', 0.9946)], [], [('Чо за хрень', 0.9795)]]\n"
          ],
          "name": "stdout"
        }
      ]
    },
    {
      "cell_type": "code",
      "metadata": {
        "id": "1Sh-uAeotJQ0"
      },
      "source": [
        "xls_toxic['Bad_words'] = bad_words_full\n",
        "xls_toxic['Percentage of bad'] = np.round(procents, 4)"
      ],
      "execution_count": null,
      "outputs": []
    },
    {
      "cell_type": "code",
      "metadata": {
        "colab": {
          "base_uri": "https://localhost:8080/",
          "height": 419
        },
        "id": "GshAxGaguFyR",
        "outputId": "a907bef6-ef6a-483b-ea9b-2e4909088579"
      },
      "source": [
        "xls_toxic"
      ],
      "execution_count": null,
      "outputs": [
        {
          "output_type": "execute_result",
          "data": {
            "text/html": [
              "<div>\n",
              "<style scoped>\n",
              "    .dataframe tbody tr th:only-of-type {\n",
              "        vertical-align: middle;\n",
              "    }\n",
              "\n",
              "    .dataframe tbody tr th {\n",
              "        vertical-align: top;\n",
              "    }\n",
              "\n",
              "    .dataframe thead th {\n",
              "        text-align: right;\n",
              "    }\n",
              "</style>\n",
              "<table border=\"1\" class=\"dataframe\">\n",
              "  <thead>\n",
              "    <tr style=\"text-align: right;\">\n",
              "      <th></th>\n",
              "      <th>Text</th>\n",
              "      <th>Bad_words</th>\n",
              "      <th>Percentage of bad</th>\n",
              "    </tr>\n",
              "  </thead>\n",
              "  <tbody>\n",
              "    <tr>\n",
              "      <th>0</th>\n",
              "      <td>ужасная поддержка!</td>\n",
              "      <td>[]</td>\n",
              "      <td>0.0000</td>\n",
              "    </tr>\n",
              "    <tr>\n",
              "      <th>1</th>\n",
              "      <td>ужасная поддержка</td>\n",
              "      <td>[]</td>\n",
              "      <td>0.0000</td>\n",
              "    </tr>\n",
              "    <tr>\n",
              "      <th>2</th>\n",
              "      <td>где мой деньги паскуды, сколько можно херней з...</td>\n",
              "      <td>[(мой деньги паскуды,, 0.9484)]</td>\n",
              "      <td>0.1250</td>\n",
              "    </tr>\n",
              "    <tr>\n",
              "      <th>3</th>\n",
              "      <td>завтра же нахер все позакрою тут, ебучее говно</td>\n",
              "      <td>[(говно завтра же, 0.9436), (завтра же нахер, ...</td>\n",
              "      <td>0.7500</td>\n",
              "    </tr>\n",
              "    <tr>\n",
              "      <th>4</th>\n",
              "      <td>У вас приложение говно полное</td>\n",
              "      <td>[]</td>\n",
              "      <td>0.0000</td>\n",
              "    </tr>\n",
              "    <tr>\n",
              "      <th>...</th>\n",
              "      <td>...</td>\n",
              "      <td>...</td>\n",
              "      <td>...</td>\n",
              "    </tr>\n",
              "    <tr>\n",
              "      <th>105</th>\n",
              "      <td>скажите, где и кому сообщать по поводу работы ...</td>\n",
              "      <td>[(никому. у вас, 0.8726)]</td>\n",
              "      <td>0.0500</td>\n",
              "    </tr>\n",
              "    <tr>\n",
              "      <th>106</th>\n",
              "      <td>что за хуйня опять у вас там творится</td>\n",
              "      <td>[(что за хуйня, 0.9947), (за хуйня опять, 0.99...</td>\n",
              "      <td>0.7500</td>\n",
              "    </tr>\n",
              "    <tr>\n",
              "      <th>107</th>\n",
              "      <td>потому по щётку такая хуйня</td>\n",
              "      <td>[(хуйня потому по, 0.9911), (потому по щётку, ...</td>\n",
              "      <td>0.8000</td>\n",
              "    </tr>\n",
              "    <tr>\n",
              "      <th>108</th>\n",
              "      <td>что значит \"зафиксировать обращение\"? я хочу в...</td>\n",
              "      <td>[]</td>\n",
              "      <td>0.0000</td>\n",
              "    </tr>\n",
              "    <tr>\n",
              "      <th>109</th>\n",
              "      <td>Чо за хрень 30 акций поставил на продажу проща...</td>\n",
              "      <td>[(Чо за хрень, 0.9795)]</td>\n",
              "      <td>0.0435</td>\n",
              "    </tr>\n",
              "  </tbody>\n",
              "</table>\n",
              "<p>110 rows × 3 columns</p>\n",
              "</div>"
            ],
            "text/plain": [
              "                                                  Text  ... Percentage of bad\n",
              "0                                   ужасная поддержка!  ...            0.0000\n",
              "1                                    ужасная поддержка  ...            0.0000\n",
              "2    где мой деньги паскуды, сколько можно херней з...  ...            0.1250\n",
              "3       завтра же нахер все позакрою тут, ебучее говно  ...            0.7500\n",
              "4                        У вас приложение говно полное  ...            0.0000\n",
              "..                                                 ...  ...               ...\n",
              "105  скажите, где и кому сообщать по поводу работы ...  ...            0.0500\n",
              "106              что за хуйня опять у вас там творится  ...            0.7500\n",
              "107                        потому по щётку такая хуйня  ...            0.8000\n",
              "108  что значит \"зафиксировать обращение\"? я хочу в...  ...            0.0000\n",
              "109  Чо за хрень 30 акций поставил на продажу проща...  ...            0.0435\n",
              "\n",
              "[110 rows x 3 columns]"
            ]
          },
          "metadata": {
            "tags": []
          },
          "execution_count": 36
        }
      ]
    },
    {
      "cell_type": "code",
      "metadata": {
        "id": "a7T9rnXMuvkT"
      },
      "source": [
        "xls_toxic.to_excel('негатив_вывод_ver_7.xlsx')"
      ],
      "execution_count": null,
      "outputs": []
    },
    {
      "cell_type": "code",
      "metadata": {
        "id": "EkOnvYBGaoDQ"
      },
      "source": [
        ""
      ],
      "execution_count": null,
      "outputs": []
    },
    {
      "cell_type": "code",
      "metadata": {
        "id": "ct8jqa_aVvEp",
        "colab": {
          "base_uri": "https://localhost:8080/"
        },
        "outputId": "24c65d3f-a9e5-4e6a-c5bc-e2575b363dcf"
      },
      "source": [
        "import os\n",
        "import pandas as pd\n",
        "from torch import nn\n",
        "import numpy as np\n",
        "\n",
        "a = os.listdir(path='./xlsx')\n",
        "count = 0\n",
        "for name_xlsx_in_dir in a: \n",
        "  if name_xlsx_in_dir.endswith('.xlsx') == True:\n",
        "    path = './xlsx/' + name_xlsx_in_dir\n",
        "#    print(path)   \n",
        "    xls = pd.ExcelFile(path)\n",
        "    xls_toxic = pd.read_excel(path, index_col=None, header=0) #, skiprows=3\n",
        "\n",
        "# -//-\n",
        "\n",
        "    def razbienie(str):\n",
        "        spisok_str = str.split(' ')\n",
        "\n",
        "        new_spisok = []\n",
        "        i = 0\n",
        "        if len(spisok_str) == 1:\n",
        "            new_spisok.append(spisok_str[i])\n",
        "            return new_spisok\n",
        "        while i <= len(spisok_str)-1:\n",
        "            if i == 0:\n",
        "              new_spisok.append(spisok_str[i-1] + ' ' + spisok_str[i] + ' ' + spisok_str[i+1])\n",
        "              i += 1\n",
        "            elif i == len(spisok_str)-1 and i != 0:\n",
        "              new_spisok.append(spisok_str[i-1] + ' ' + spisok_str[i])\n",
        "              i += 1\n",
        "            else:\n",
        "              new_spisok.append(spisok_str[i-1] + ' ' + spisok_str[i] + ' ' + spisok_str[i+1])\n",
        "        \n",
        "              i += 1\n",
        "        return new_spisok\n",
        "\n",
        "  # -//-\n",
        "\n",
        "    pt_batches = []\n",
        "    for i in range(len(xls_toxic['Text'])):\n",
        "      #print(xls_toxic['Text'][i].split(' '))\n",
        "      pt_batch = tokenizer(\n",
        "        razbienie(str(xls_toxic['Text'][i])),\n",
        "        padding=True,    truncation=True,    max_length=512,    return_tensors=\"pt\" )\n",
        "      pt_batches.append(pt_batch)\n",
        "\n",
        "# -//-\n",
        "\n",
        "    pt_predictions = []\n",
        "    for pt_batch in pt_batches:\n",
        "      pt_output = model(**pt_batch)\n",
        "      pt_prediction = nn.functional.softmax(pt_output.logits, dim=-1)\n",
        "      pt_predictions.append(pt_prediction)\n",
        "\n",
        "# -//-\n",
        "\n",
        "    bad_words_full = []\n",
        "    procents = []\n",
        "    for i in range(len(pt_predictions)):\n",
        "      bad_words = []\n",
        "      words = razbienie(str(xls_toxic['Text'][i]))\n",
        "      #print(float(pt_predictions[i][0][1])) \n",
        "      for j in range(len(pt_predictions[i])):\n",
        "        if float(pt_predictions[i][j][1]) > 0.7:\n",
        "          #print(type(words[j]))\n",
        "          bad_words.append((words[j], np.round(float(pt_predictions[i][j][1]), 4)))\n",
        "          #bad_words.append(float(pt_predictions[i][j][1]))\n",
        "      procent = len(bad_words)/len(words)\n",
        "      procents.append(procent)\n",
        "      bad_words_full.append(bad_words)\n",
        "    #print(bad_words_full)\n",
        "\n",
        "# -//-\n",
        "\n",
        "    xls_toxic['Bad_words'] = bad_words_full\n",
        "    xls_toxic['Percentage of bad'] = np.round(procents, 4)\n",
        "\n",
        "# -//-\n",
        "\n",
        "    path_exit = './Выводы/Негатив_вывод_v5(po3)_'+ str(count) + '.xlsx'\n",
        "    xls_toxic.to_excel(path_exit)\n",
        "    count += 1\n",
        "    print(count)\n"
      ],
      "execution_count": 4,
      "outputs": [
        {
          "output_type": "stream",
          "text": [
            "1\n",
            "2\n",
            "3\n",
            "4\n",
            "5\n",
            "6\n",
            "7\n",
            "8\n",
            "9\n",
            "10\n"
          ],
          "name": "stdout"
        }
      ]
    }
  ]
}